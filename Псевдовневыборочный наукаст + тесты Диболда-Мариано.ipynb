{
 "cells": [
  {
   "cell_type": "code",
   "execution_count": null,
   "id": "surprised-portal",
   "metadata": {},
   "outputs": [],
   "source": [
    "%run \"Подготовка данных.ipynb\""
   ]
  },
  {
   "cell_type": "markdown",
   "id": "miniature-bernard",
   "metadata": {},
   "source": [
    "В ноутбуке \"Подготовка данных\" необходимо выбрать целевую переменную food_goods или nonfood_goods. После этого нужно сохранить ноутбук. В ходе этого ноутбука будет еще одна возможность выбрать переменную для рассмотрения. См. комментарии к коду."
   ]
  },
  {
   "cell_type": "code",
   "execution_count": null,
   "id": "southeast-organizer",
   "metadata": {},
   "outputs": [],
   "source": [
    "var_name"
   ]
  },
  {
   "cell_type": "code",
   "execution_count": null,
   "id": "fifty-finance",
   "metadata": {},
   "outputs": [],
   "source": [
    "def result(X, y):\n",
    "    t = X.isnull().sum(axis = 0).max()\n",
    "    y = y[t:]            \n",
    "    X = X[t:] \n",
    "    X = X.reset_index(drop = True)\n",
    "    y = y.reset_index(drop = True)\n",
    "    X = sm.add_constant(X)\n",
    "    n = round(len(X)*0.6)\n",
    "    return X, y, n, t"
   ]
  },
  {
   "cell_type": "code",
   "execution_count": null,
   "id": "cloudy-healing",
   "metadata": {},
   "outputs": [],
   "source": [
    "variables = [tab_2014['ipd'], tab_2014['ipd-1'], tab_2014['ipd-2'], tab_2014['ipd-3'],\n",
    "             tab_2014['oil'], tab_2014['oil-1'], tab_2014['oil-2'],tab_2014['oil-3'],\n",
    "             tab_2014['rvi'], tab_2014['rvi-1'], tab_2014['rvi-2'],tab_2014['rvi-3'],\n",
    "             tab_2014['real_rate'], tab_2014['real_rate-1'],tab_2014['real_rate-2'],tab_2014['real_rate-3'],\n",
    "             tab_2014[var_name+'-1'], tab_2014[var_name+'-2'], tab_2014[var_name+'-3']]"
   ]
  },
  {
   "cell_type": "code",
   "execution_count": null,
   "id": "stretch-soundtrack",
   "metadata": {},
   "outputs": [],
   "source": [
    "combs = []\n",
    "for i in range(1, 4):\n",
    "    els = [list(x) for x in itertools.combinations(variables, i)]\n",
    "    combs.extend(els)\n",
    "len(combs)"
   ]
  },
  {
   "cell_type": "code",
   "execution_count": null,
   "id": "lightweight-consequence",
   "metadata": {},
   "outputs": [],
   "source": [
    "inf = []\n",
    "for m in range(len(combs)):\n",
    "    X = pd.DataFrame(combs[m]).T\n",
    "    y = tab_2014.filter([var_name])\n",
    "    X, y, n, t = result(X, y)\n",
    "    model = sm.OLS(y[:n], X[:n])\n",
    "    results = model.fit(cov_type='HC3')\n",
    "    \n",
    "    start = results.fittedvalues.index[-1]\n",
    "    predictions = []\n",
    "    for i in range(start, y.index[-1]):\n",
    "        ## добавляем прогнозное наблюдение\n",
    "        a = results.predict(X[i:i+1])\n",
    "        predictions.append(a[i])\n",
    "        model = sm.OLS(y[:i], X[:i])\n",
    "        results = model.fit(cov_type='HC3')\n",
    "\n",
    "    columns = X.columns\n",
    "    r = results.rsquared_adj\n",
    "    p = results.pvalues\n",
    "    k=[]\n",
    "    for i in range(0,len(p)):\n",
    "        if p[i] < 0.05:\n",
    "            k.append(p.index[i])\n",
    "    MAE = mean_absolute_percentage_error(y[n:][var_name], predictions)         \n",
    "    inf.append([list(X.columns), k, r, MAE])\n",
    "        \n",
    "ols_all = pd.DataFrame(inf, columns = ['Регрессоры', 'Значимые регрессоры', 'Скорректированный R^2', 'MAE'])\n",
    "p_values = []\n",
    "regressors = []\n",
    "for i in range(len(ols_all)):\n",
    "    p_values.append(\", \".join(ols_all['Значимые регрессоры'][i])) \n",
    "    regressors.append(\", \".join(ols_all['Регрессоры'][i])) \n",
    "ols_all['Значимые регрессоры'] = p_values\n",
    "ols_all['Регрессоры'] = regressors\n",
    "\n",
    "df = pd.DataFrame()\n",
    "for j in range(len(ols_all['Значимые регрессоры'])):\n",
    "    if ', '.join(ols_all['Регрессоры'][j].split(', ')[1:]) in ols_all['Значимые регрессоры'][j]:\n",
    "        df = df.append(ols_all[ols_all.index == j])\n",
    "models = df.sort_values('Скорректированный R^2', ascending=False).reset_index(drop=True)[:10]"
   ]
  },
  {
   "cell_type": "code",
   "execution_count": null,
   "id": "musical-medline",
   "metadata": {},
   "outputs": [],
   "source": [
    "if var_name == 'nonfood_goods':\n",
    "    goods = neprod_detrend ## Выбираем тренды к целевой переменной\n",
    "else: \n",
    "    goods = prod_detrend \n",
    "\n",
    "combs = []\n",
    "for i in range(1, 3):\n",
    "    els = [list(x) for x in itertools.combinations(goods, i)]\n",
    "    combs.extend(els)"
   ]
  },
  {
   "cell_type": "code",
   "execution_count": null,
   "id": "interesting-mounting",
   "metadata": {},
   "outputs": [],
   "source": [
    "s = pd.DataFrame()\n",
    "for g in range(len(combs)):\n",
    "    inf = []\n",
    "    for m in range(len(models)):\n",
    "        splited = models['Регрессоры'][m].split(', ')\n",
    "        try:\n",
    "            X1 = tab_2014.filter([splited[1], splited[2], splited[3]])\n",
    "        except:\n",
    "            try:\n",
    "                X1 = tab_2014.filter([splited[1], splited[2]])\n",
    "            except:\n",
    "                X1 = tab_2014.filter([splited[1]])   \n",
    "        X = X1.join(goods[combs[g]], how = 'left')\n",
    "        y = tab_2014.filter([var_name])\n",
    "        X, y, n, t = result(X, y)\n",
    "        model = sm.OLS(y[:n], X[:n])\n",
    "        results = model.fit(cov_type='HC3')\n",
    "        start = results.fittedvalues.index[-1]\n",
    "        predictions = []\n",
    "        for i in range(start, y.index[-1]):\n",
    "            ## добавляем прогнозное наблюдение\n",
    "            a = results.predict(X[i:i+1])\n",
    "            predictions.append(a[i])\n",
    "            model = sm.OLS(y[:i], X[:i])\n",
    "            results = model.fit(cov_type='HC3')\n",
    "        columns = X.columns\n",
    "        p = results.pvalues\n",
    "        k=[]\n",
    "        for i in range(0,len(p)):\n",
    "            if p[i] < 0.05:\n",
    "                k.append(p.index[i])\n",
    "        r = results.rsquared_adj\n",
    "        MAE = mean_absolute_percentage_error(y[n:][var_name], predictions)\n",
    "        inf.append([list(X.columns), k, r, MAE])    \n",
    "    ols_all = pd.DataFrame(inf, columns = ['Регрессоры', 'Значимые регрессоры', 'Скорректированный R^2', 'MAE'])\n",
    "    table = models.join(ols_all, how = 'left', rsuffix=' (тренды)')\n",
    "    table['Разница MAE'] = table['MAE (тренды)'] - table['MAE']\n",
    "    table['Разница R^2'] = table['Скорректированный R^2 (тренды)'] - table['Скорректированный R^2']\n",
    "    table1 = table[(table['Разница MAE']<0) & (table['Разница R^2']>0)].reset_index(drop = True)\n",
    "    for j in range(len(table1['Значимые регрессоры (тренды)'])):\n",
    "        if combs[g][0] in table1['Значимые регрессоры (тренды)'][j]:\n",
    "            s = s.append(table1[table1.index == j])"
   ]
  },
  {
   "cell_type": "code",
   "execution_count": null,
   "id": "toxic-terry",
   "metadata": {},
   "outputs": [],
   "source": [
    "len(s)"
   ]
  },
  {
   "cell_type": "markdown",
   "id": "stuffed-rating",
   "metadata": {},
   "source": [
    "Здесь мы сортируем результаты по разнице R^2 и по разнице МАЕ. "
   ]
  },
  {
   "cell_type": "code",
   "execution_count": null,
   "id": "living-elevation",
   "metadata": {},
   "outputs": [],
   "source": [
    "s_r2_1 = s.sort_values(by='Разница R^2', ascending=False).reset_index(drop = True)[:10]\n",
    "s_mae_1 = s.sort_values(by='Разница MAE', ascending=True).reset_index(drop = True)[:10]"
   ]
  },
  {
   "cell_type": "markdown",
   "id": "specialized-grill",
   "metadata": {},
   "source": [
    "В следующей ячейке необходимо выбрать таблицу, по которой будет происходить отрисовка графиков."
   ]
  },
  {
   "cell_type": "code",
   "execution_count": null,
   "id": "civilian-layer",
   "metadata": {},
   "outputs": [],
   "source": [
    "variable = s_r2_1"
   ]
  },
  {
   "cell_type": "code",
   "execution_count": null,
   "id": "annual-chester",
   "metadata": {
    "scrolled": true
   },
   "outputs": [],
   "source": [
    "predictions_total_bench = []\n",
    "predictions_total_gt = []\n",
    "\n",
    "r_bench = []\n",
    "r_gt = []\n",
    "\n",
    "for i in range(len(variable)):\n",
    "    X = tab_2014.filter(variable.iloc[:,0][i].split())\n",
    "    y = tab_2014.filter([var_name])\n",
    "    X, y, n, t = result(X, y)\n",
    "    model = sm.OLS(y[:n], X[:n])\n",
    "    results = model.fit(cov_type='HC3')\n",
    "    predictions = []\n",
    "    r_sq = []\n",
    "    start = results.fittedvalues.index[-1]\n",
    "    for k in range(start, y.index[-1]):\n",
    "        ## добавляем прогнозное наблюдение\n",
    "        a = results.predict(X[k:k+1])\n",
    "        predictions.append(a[k])\n",
    "        model = sm.OLS(y[:k], X[:k])\n",
    "        results = model.fit(cov_type='HC3')\n",
    "        r = results.rsquared_adj\n",
    "        r_sq.append(r)\n",
    "    \n",
    "    predictions_total_bench.append(predictions)\n",
    "    r_bench.append(r_sq)\n",
    "    \n",
    "    X = tab_2014.filter(variable.iloc[:,0][i].split()).join(goods[variable.iloc[:,4][i][len(variable.iloc[:,0][i].split()):]], how = 'left')\n",
    "    y = tab_2014.filter([var_name])\n",
    "    X, y, n, t = result(X, y)\n",
    "    model = sm.OLS(y[:n], X[:n])\n",
    "    results = model.fit(cov_type='HC3')\n",
    "    start = results.fittedvalues.index[-1]\n",
    "    predictions1 = []\n",
    "    r_sq1 = []\n",
    "    for k in range(start, y.index[-1]):\n",
    "        ## добавляем прогнозное наблюдение\n",
    "        a = results.predict(X[k:k+1])\n",
    "        predictions1.append(a[k])\n",
    "        model = sm.OLS(y[:k], X[:k])\n",
    "        results = model.fit(cov_type='HC3')\n",
    "        r = results.rsquared_adj\n",
    "        r_sq1.append(r)\n",
    "        \n",
    "    predictions_total_gt.append(predictions1)\n",
    "    r_gt.append(r_sq1)\n",
    "    \n",
    "mean_gt = pd.DataFrame(predictions_total_gt).mean(axis = 0)\n",
    "mean_bch = pd.DataFrame(predictions_total_bench).mean(axis = 0)\n",
    "\n",
    "mean_r_bench = pd.DataFrame(r_bench).mean(axis = 0)\n",
    "mean_r_gt = pd.DataFrame(r_gt).mean(axis = 0)\n",
    "\n",
    "plotly.offline.init_notebook_mode()\n",
    "\n",
    "for i in range(len(variable.MAE)):\n",
    "\n",
    "    if variable.MAE[i] == s_mae_1.MAE[i]:\n",
    "        data = [plotly.graph_objs.Scatter(x=prod[132+n+t:].index, \n",
    "                                          y=y.iloc[:,0][n:], mode='lines', name = 'Непродовольственный ретейл'),\n",
    "               plotly.graph_objs.Scatter(x=prod[132+n+t:].index, \n",
    "                                          y=mean_bch, mode='lines', name = 'Усредненные прогнозы базовых моделей'),\n",
    "               plotly.graph_objs.Scatter(x=prod[132+n+t:].index, \n",
    "                                         y=mean_gt, mode='lines', name = 'Усредненные прогнозы расширенных моделей')]\n",
    "    else:\n",
    "        data = [plotly.graph_objs.Scatter(x=prod[132+n+t:].index, \n",
    "                                          y=mean_r_bench, mode='lines', name = 'Усредненный коэффициент детерминации базовых моделей', line=dict(color=\"red\")),\n",
    "               plotly.graph_objs.Scatter(x=prod[132+n+t:].index, \n",
    "                                         y=mean_r_gt, mode='lines', name = 'Усредненный коэффициент детерминации расширенных моделей', line=dict(color=\"#10CDAC\"))]\n",
    "\n",
    "\n",
    "layout = go.Layout(legend=dict(orientation=\"h\"),font=dict(size=15,),autosize=False, width=1000,height=700,\n",
    "    paper_bgcolor='rgba(0,0,0,0)', plot_bgcolor='rgba(0,0,0,0)', xaxis = dict(showticklabels = True),\n",
    "    yaxis = dict(showgrid = True, gridcolor = '#e3e3e3', gridwidth = 1, zerolinecolor = '#969696', zerolinewidth = 2,\n",
    "    linecolor = '#636363', linewidth = 1, showticklabels = True))\n",
    "\n",
    "fig = go.Figure(data=data, layout = layout)\n",
    "\n",
    "plotly.offline.iplot(fig)  "
   ]
  },
  {
   "cell_type": "code",
   "execution_count": null,
   "id": "hidden-baseball",
   "metadata": {},
   "outputs": [],
   "source": [
    "## Здесь мы подсчитываем частоту использования трендов в улучшенных моделях. \n",
    "\n",
    "ss = s.sort_values(by='Разница R^2', ascending=False).reset_index(drop = True)\n",
    "if var_name == 'nonfood_goods':\n",
    "    columns = neprod.columns ## Выбираем тренды к целевой переменной\n",
    "else: \n",
    "    columns = prod.columns \n",
    "\n",
    "for i in columns:\n",
    "    s1 = pd.DataFrame()\n",
    "    for j in range(len(ss['Регрессоры (тренды)'])):\n",
    "        if i in ' '.join(ss['Регрессоры (тренды)'][j]): \n",
    "            s1 = s1.append(ss[ss.index == j])\n",
    "    print(len(s1))"
   ]
  },
  {
   "cell_type": "markdown",
   "id": "authorized-vancouver",
   "metadata": {},
   "source": [
    "## Тесты Диболда-Мариано"
   ]
  },
  {
   "cell_type": "markdown",
   "id": "magnetic-paper",
   "metadata": {},
   "source": [
    "Diebold-Mariano test  \n",
    "Н0: Двусторонняя гипотеза о равенстве прогнозов  \n",
    "Если p-value > 0.05, то гипотеза о равенстве прогнозов не отвергается  "
   ]
  },
  {
   "cell_type": "markdown",
   "id": "moved-minnesota",
   "metadata": {},
   "source": [
    "Используем рекурсивное прогнозирование, заменяем лаги целевой переменной на оценки. Растущий трейн на каждом шаге помогает предсказать следующее наблюдение, т.е. здесь мы переоцениваем модель на каждом шаге."
   ]
  },
  {
   "cell_type": "code",
   "execution_count": null,
   "id": "divided-organic",
   "metadata": {},
   "outputs": [],
   "source": [
    "def match_func(index, lag, start, results, h):\n",
    "    pattern = re.compile(var_name + index)\n",
    "    match  = pattern.search(str(first_model1))\n",
    "    if match:\n",
    "        predictions_count = []\n",
    "        start = results.fittedvalues.index[-1]\n",
    "        for i in range(start, start+h+1):\n",
    "            ### Назначаем текущее значение прогноза у его лагу.  \n",
    "            X[var_name+index][i-lag+1] = results.predict(X[i:i+1])\n",
    "            predictions_count.append(X[var_name+index][i-lag+1])\n",
    "    return predictions_count\n",
    "\n",
    "def get_predictions(h):\n",
    "    try:\n",
    "        predictions = match_func('-1', 1, results = results, h=h)\n",
    "    except:\n",
    "        try:\n",
    "            predictions = match_func('-2', 2, results = results, h=h)\n",
    "        except:\n",
    "            try:\n",
    "                predictions = match_func('-3', 3, results = results, h=h)\n",
    "            except:\n",
    "                predictions = []\n",
    "                for i in range(start, start+h+1):\n",
    "                     ## добавляем прогнозное наблюдение\n",
    "                    predictions.append(results.predict(X[i:i+h+1]))\n",
    "    return predictions"
   ]
  },
  {
   "cell_type": "code",
   "execution_count": null,
   "id": "central-operation",
   "metadata": {
    "scrolled": true
   },
   "outputs": [],
   "source": [
    "DM = pd.DataFrame()\n",
    "s = s.reset_index(drop = True)\n",
    "for h in range(10):\n",
    "    dm = []\n",
    "    for j in range(len(s)):\n",
    "        first_model1 = s.iloc[j,:]['Регрессоры'].split(', ')\n",
    "        X = tab_2014.filter(first_model1) \n",
    "        y = tab_2014.filter([var_name])\n",
    "        X, y, n, t = result(X, y)\n",
    "        model = sm.OLS(y[:n], X[:n])\n",
    "        results = model.fit(cov_type='HC3')\n",
    "\n",
    "        start = results.fittedvalues.index[-1]\n",
    "        predictions1 = []\n",
    "        for i in range(start, y.index[-1]-h):\n",
    "            predictions = get_predictions(h)\n",
    "            predictions1.append(predictions[0][start+h])\n",
    "            start +=1 \n",
    "            X = tab_2014.filter(first_model1)  \n",
    "            y = tab_2014.filter([var_name])\n",
    "            X, y, n, t = result(X, y)\n",
    "            model = sm.OLS(y[:i], X[:i])\n",
    "            results = model.fit(cov_type='HC3')\n",
    "    \n",
    "        first_model1 = s.iloc[j,:]['Регрессоры'].split(', ')\n",
    "        X_star = tab_2014.filter(first_model1)\n",
    "        X = X_star.join(goods[s.iloc[j,4][len(s.iloc[j,0].split()):]])\n",
    "        y = tab_2014.filter([var_name])\n",
    "        X, y, n, t = result(X, y)\n",
    "        model = sm.OLS(y[:n], X[:n])\n",
    "        results = model.fit(cov_type='HC3')\n",
    "\n",
    "        start = results.fittedvalues.index[-1]\n",
    "        predictions2 = []\n",
    "        for i in range(start, y.index[-1]-h):\n",
    "            predictions = get_predictions(h)\n",
    "            predictions2.append(predictions[0][start+h])\n",
    "            start +=1 \n",
    "            X = X_star.join(goods[s.iloc[j,4][len(s.iloc[j,0].split()):]])\n",
    "            y = tab_2014.filter([var_name])\n",
    "            X, y, n, t = result(X, y)\n",
    "            model = sm.OLS(y[:i], X[:i])\n",
    "            results = model.fit(cov_type='HC3')\n",
    "\n",
    "        dm.append(dm_test(y[n:][var_name][h:], predictions2, predictions1, h = h+1, crit = 'MSE')[1])\n",
    "\n",
    "\n",
    "    df = pd.DataFrame()\n",
    "    for i in range(len(dm)):\n",
    "        if dm[i]<0.2:\n",
    "            df = df.append(s.iloc[i,:])\n",
    "    df['Шаг прогноза'] = h+1\n",
    "    DM = DM.append(df)"
   ]
  },
  {
   "cell_type": "code",
   "execution_count": null,
   "id": "adaptive-algebra",
   "metadata": {},
   "outputs": [],
   "source": [
    "df1 = DM[['Регрессоры (тренды)', 'Шаг прогноза']]\n",
    "df2 = df1.groupby(level=0)['Шаг прогноза'].apply(list).to_dict()\n",
    "keys = list(df2.keys())\n",
    "names_ = []\n",
    "for i in s.index:\n",
    "    if i in keys:\n",
    "        names_.append(str(s['Регрессоры (тренды)'][i]))\n",
    "\n",
    "print('Количество уникальных регрессий ', len(pd.DataFrame([names_, df2.values()]).T))\n",
    "\n",
    "## Подсчет количества моделей с шагом прогноза от 1 до 10.\n",
    "#########################################################\n",
    "\n",
    "for i in range(1,11):\n",
    "    print(len(DM[DM['Шаг прогноза'] == i]))"
   ]
  },
  {
   "cell_type": "code",
   "execution_count": null,
   "id": "freelance-bangkok",
   "metadata": {},
   "outputs": [],
   "source": [
    "## Список моделей для конкретного шага прогноза \n",
    "###############################################\n",
    "\n",
    "temp = DM[DM['Шаг прогноза'] == 10].sort_values(['Разница R^2'], ascending = False)\n",
    "temp = temp.reset_index(drop = True)\n",
    "temp"
   ]
  }
 ],
 "metadata": {
  "kernelspec": {
   "display_name": "Python 3",
   "language": "python",
   "name": "python3"
  },
  "language_info": {
   "codemirror_mode": {
    "name": "ipython",
    "version": 3
   },
   "file_extension": ".py",
   "mimetype": "text/x-python",
   "name": "python",
   "nbconvert_exporter": "python",
   "pygments_lexer": "ipython3",
   "version": "3.7.9"
  }
 },
 "nbformat": 4,
 "nbformat_minor": 5
}
