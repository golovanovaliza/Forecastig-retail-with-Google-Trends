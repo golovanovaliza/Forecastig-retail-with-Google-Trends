{
 "cells": [
  {
   "cell_type": "code",
   "execution_count": null,
   "id": "certified-strike",
   "metadata": {
    "scrolled": true
   },
   "outputs": [],
   "source": [
    "%run \"Подготовка данных.ipynb\""
   ]
  },
  {
   "cell_type": "code",
   "execution_count": null,
   "id": "tested-arcade",
   "metadata": {},
   "outputs": [],
   "source": [
    "def result(X, y):\n",
    "    t = X.isnull().sum(axis = 0).max()\n",
    "    y = y[t:]            \n",
    "    X = X[t:] \n",
    "    X = X.reset_index(drop = True)\n",
    "    y = y.reset_index(drop = True)\n",
    "    X = sm.add_constant(X)\n",
    "    n = round(len(X)*0.6)\n",
    "    return X, y, n, t\n"
   ]
  },
  {
   "cell_type": "code",
   "execution_count": null,
   "id": "sensitive-discussion",
   "metadata": {},
   "outputs": [],
   "source": [
    "def match_func(index, lag, start, results, h):\n",
    "    pattern = re.compile(var_name + index)\n",
    "    match  = pattern.search(str(first_model1))\n",
    "    if match:\n",
    "        predictions_count = []\n",
    "        start = results.fittedvalues.index[-1]\n",
    "        for i in range(start, start+h+1):\n",
    "            ### Назначаем текущее значение прогноза у его лагу.  \n",
    "            X[var_name+index][i-lag+1] = results.predict(X[i:i+1])\n",
    "            predictions_count.append(X[var_name+index][i-lag+1])\n",
    "    return predictions_count\n",
    "\n",
    "def get_predictions(h):\n",
    "    try:\n",
    "        predictions = match_func('-1', 1, results = results, h=h)\n",
    "    except:\n",
    "        try:\n",
    "            predictions = match_func('-2', 2, results = results, h=h)\n",
    "        except:\n",
    "            try:\n",
    "                predictions = match_func('-3', 3, results = results, h=h)\n",
    "            except:\n",
    "                predictions = []\n",
    "                for i in range(start, start+h+1):\n",
    "                     ## добавляем прогнозное наблюдение\n",
    "                    predictions.append(results.predict(X[i:i+h+1]))\n",
    "    return predictions"
   ]
  },
  {
   "cell_type": "code",
   "execution_count": null,
   "id": "coordinate-gothic",
   "metadata": {},
   "outputs": [],
   "source": [
    "prod_unit_ = pd.read_excel('data_categ_unit.xlsx', sheet_name = 'prod_yty').sort_values(by='dt',ascending = True).reset_index(drop=True)\n",
    "neprod_unit_ = pd.read_excel('data_categ_unit.xlsx', sheet_name = 'neprod_yty').sort_values(by='dt',ascending = True).reset_index(drop=True)"
   ]
  },
  {
   "cell_type": "code",
   "execution_count": null,
   "id": "mechanical-migration",
   "metadata": {},
   "outputs": [],
   "source": [
    "scaler = MinMaxScaler(feature_range=(0, 100))\n",
    "scaler = scaler.fit(prod_unit_.iloc[:,1:])\n",
    "try1 = scaler.transform(prod_unit_.iloc[:,1:])\n",
    "prod_unit = pd.DataFrame(try1, columns=prod_unit_.iloc[:,1:].columns)\n",
    "\n",
    "\n",
    "scaler = scaler.fit(neprod_unit_.iloc[:,1:])\n",
    "try1 = scaler.transform(neprod_unit_.iloc[:,1:])\n",
    "neprod_unit = pd.DataFrame(try1, columns=neprod_unit_.iloc[:,1:].columns)"
   ]
  },
  {
   "cell_type": "code",
   "execution_count": null,
   "id": "qualified-message",
   "metadata": {},
   "outputs": [],
   "source": [
    "for i in prod_unit.columns[1:]: \n",
    "        prod_unit[i+'-1'] = prod_unit[i].shift().reset_index(drop = True)\n",
    "        prod_unit[i+'-2'] = prod_unit[i+'-1'].shift().reset_index(drop = True)\n",
    "        prod_unit[i+'-3'] = prod_unit[i+'-2'].shift().reset_index(drop = True) "
   ]
  },
  {
   "cell_type": "code",
   "execution_count": null,
   "id": "supreme-replication",
   "metadata": {},
   "outputs": [],
   "source": [
    "prod_unit.head(2)"
   ]
  },
  {
   "cell_type": "code",
   "execution_count": null,
   "id": "lovely-buying",
   "metadata": {},
   "outputs": [],
   "source": [
    "for i in neprod_unit.columns[1:]: \n",
    "        neprod_unit[i+'-1'] = neprod_unit[i].shift().reset_index(drop = True)\n",
    "        neprod_unit[i+'-2'] = neprod_unit[i+'-1'].shift().reset_index(drop = True)\n",
    "        neprod_unit[i+'-3'] = neprod_unit[i+'-2'].shift().reset_index(drop = True) "
   ]
  },
  {
   "cell_type": "code",
   "execution_count": null,
   "id": "analyzed-watts",
   "metadata": {},
   "outputs": [],
   "source": [
    "neprod_unit.head(2)"
   ]
  },
  {
   "cell_type": "markdown",
   "id": "touched-bhutan",
   "metadata": {},
   "source": [
    "Выбираем таблицу для расчета результатов "
   ]
  },
  {
   "cell_type": "code",
   "execution_count": null,
   "id": "spare-breeding",
   "metadata": {},
   "outputs": [],
   "source": [
    "table_unit = neprod_unit"
   ]
  },
  {
   "cell_type": "code",
   "execution_count": null,
   "id": "incredible-commissioner",
   "metadata": {},
   "outputs": [],
   "source": [
    "table_items = pd.DataFrame()\n",
    "\n",
    "for key in range(1,len(table_unit.columns)):\n",
    "    try:\n",
    "        var_name = table_unit.columns[key]\n",
    "\n",
    "        variables = [tab_2014['ipd'], tab_2014['ipd-1'], tab_2014['ipd-2'], tab_2014['ipd-3'],\n",
    "                    tab_2014['oil'], tab_2014['oil-1'], tab_2014['oil-2'],tab_2014['oil-3'],\n",
    "                    tab_2014['rvi'], tab_2014['rvi-1'], tab_2014['rvi-2'],tab_2014['rvi-3'],\n",
    "                    tab_2014['real_rate'], tab_2014['real_rate-1'],tab_2014['real_rate-2'],tab_2014['real_rate-3'],\n",
    "                    table_unit[var_name+'-1'], table_unit[var_name+'-2'], table_unit[var_name+'-3']]\n",
    "\n",
    "        combs = []\n",
    "        for i in range(1, 4):\n",
    "            els = [list(x) for x in itertools.combinations(variables, i)]\n",
    "            combs.extend(els) \n",
    "\n",
    "        inf = []\n",
    "        for m in range(len(combs)):\n",
    "            X = pd.DataFrame(combs[m]).T\n",
    "            y = table_unit.filter([table_unit.columns[key]])\n",
    "            X, y, n, t = result(X, y)\n",
    "            model = sm.OLS(y[:n], X[:n])\n",
    "            results = model.fit(cov_type='HC3')\n",
    "\n",
    "            start = results.fittedvalues.index[-1]\n",
    "            predictions = []\n",
    "            for i in range(start, y.index[-1]):\n",
    "                ## добавляем прогнозное наблюдение\n",
    "                a = results.predict(X[i:i+1])\n",
    "                predictions.append(a[i])\n",
    "                model = sm.OLS(y[:i], X[:i])\n",
    "                results = model.fit(cov_type='HC3')\n",
    "\n",
    "            columns = X.columns\n",
    "            r = results.rsquared_adj\n",
    "            p = results.pvalues\n",
    "            k=[]\n",
    "            for i in range(0,len(p)):\n",
    "                if p[i] < 0.05:\n",
    "                    k.append(p.index[i])\n",
    "            MAE = mean_absolute_percentage_error(y[n:][var_name], predictions)         \n",
    "            inf.append([list(X.columns), k, r, MAE])\n",
    "\n",
    "        ols_all = pd.DataFrame(inf, columns = ['Регрессоры', 'Значимые регрессоры', 'Скорректированный R^2', 'MAE'])\n",
    "        p_values = []\n",
    "        regressors = []\n",
    "        for i in range(len(ols_all)):\n",
    "            p_values.append(\", \".join(ols_all['Значимые регрессоры'][i])) \n",
    "            regressors.append(\", \".join(ols_all['Регрессоры'][i])) \n",
    "        ols_all['Значимые регрессоры'] = p_values\n",
    "        ols_all['Регрессоры'] = regressors\n",
    "\n",
    "        df = pd.DataFrame()\n",
    "        for j in range(len(ols_all['Значимые регрессоры'])):\n",
    "            if ', '.join(ols_all['Регрессоры'][j].split(', ')[1:]) in ols_all['Значимые регрессоры'][j]:\n",
    "                df = df.append(ols_all[ols_all.index == j])\n",
    "        models = df.sort_values('Скорректированный R^2', ascending=False).reset_index(drop=True)[:10]\n",
    "\n",
    "        if table_unit.iloc[0,1] == neprod_unit.iloc[0,1]:\n",
    "            goods = neprod_detrend ## Выбираем тренды к целевой переменной\n",
    "        else: \n",
    "            goods = prod_detrend \n",
    "\n",
    "        combs = []\n",
    "        for i in range(1, 3):\n",
    "            els = [list(x) for x in itertools.combinations(goods, i)]\n",
    "            combs.extend(els)\n",
    "\n",
    "        s = pd.DataFrame()\n",
    "        for g in range(len(combs)):\n",
    "            inf = []\n",
    "            for m in range(len(models)):\n",
    "                splited = models['Регрессоры'][m].split(', ')\n",
    "                X = tab_2014.filter(splited) \n",
    "                X_ = X.join(table_unit.filter(splited))\n",
    "                X = X_.join(goods[combs[g]], how = 'left')\n",
    "                y = table_unit.filter([table_unit.columns[key]])\n",
    "                X, y, n, t = result(X, y)\n",
    "                model = sm.OLS(y[:n], X[:n])\n",
    "                results = model.fit(cov_type='HC3')\n",
    "                start = results.fittedvalues.index[-1]\n",
    "                predictions = []\n",
    "                for i in range(start, y.index[-1]):\n",
    "                    ## добавляем прогнозное наблюдение\n",
    "                    a = results.predict(X[i:i+1])\n",
    "                    predictions.append(a[i])\n",
    "                    model = sm.OLS(y[:i], X[:i])\n",
    "                    results = model.fit(cov_type='HC3')\n",
    "                columns = X.columns\n",
    "                p = results.pvalues\n",
    "                k=[]\n",
    "                for i in range(0,len(p)):\n",
    "                    if p[i] < 0.05:\n",
    "                        k.append(p.index[i])\n",
    "                r = results.rsquared_adj\n",
    "                MAE = mean_absolute_percentage_error(y[n:][var_name], predictions)\n",
    "                inf.append([list(X.columns), k, r, MAE])    \n",
    "            ols_all = pd.DataFrame(inf, columns = ['Регрессоры', 'Значимые регрессоры', 'Скорректированный R^2', 'MAE'])\n",
    "            table = models.join(ols_all, how = 'left', rsuffix=' (тренды)')\n",
    "            table['Разница MAE'] = table['MAE (тренды)'] - table['MAE']\n",
    "            table['Разница R^2'] = table['Скорректированный R^2 (тренды)'] - table['Скорректированный R^2']\n",
    "            table['Регрессант'] = table_unit.columns[key]\n",
    "            table1 = table[(table['Разница MAE']<0) & (table['Разница R^2']>0)].reset_index(drop = True)\n",
    "            for j in range(len(table1['Значимые регрессоры (тренды)'])):\n",
    "                if combs[g][0] in table1['Значимые регрессоры (тренды)'][j]:\n",
    "                    s = s.append(table1[table1.index == j])\n",
    "        table_items = table_items.append(s)\n",
    "    except:\n",
    "        pass"
   ]
  },
  {
   "cell_type": "code",
   "execution_count": null,
   "id": "formed-swiss",
   "metadata": {},
   "outputs": [],
   "source": [
    "table_items['Регрессант'].unique()"
   ]
  },
  {
   "cell_type": "code",
   "execution_count": null,
   "id": "raising-circuit",
   "metadata": {},
   "outputs": [],
   "source": [
    "## Выбираем отдельную категорию \n",
    "\n",
    "s = table_items[table_items['Регрессант']=='Компьютеры'].reset_index(drop=True)\n",
    "len(s)"
   ]
  },
  {
   "cell_type": "code",
   "execution_count": null,
   "id": "distributed-casino",
   "metadata": {},
   "outputs": [],
   "source": [
    "for i in range(len(s['Значимые регрессоры (тренды)'])):\n",
    "    k=re.findall('Comp', str(s['Значимые регрессоры (тренды)'][i]))\n",
    "    if len(k)>0:\n",
    "        print(i)"
   ]
  },
  {
   "cell_type": "code",
   "execution_count": null,
   "id": "stainless-virginia",
   "metadata": {},
   "outputs": [],
   "source": [
    "table_items.sort_values('Скорректированный R^2 (тренды)', ascending = False).reset_index(drop = True)"
   ]
  },
  {
   "cell_type": "code",
   "execution_count": null,
   "id": "known-visiting",
   "metadata": {},
   "outputs": [],
   "source": [
    "if table_unit.iloc[0,1] == neprod_unit.iloc[0,1]:\n",
    "    goods = neprod_detrend ## Выбираем тренды к целевой переменной\n",
    "else: \n",
    "    goods = prod_detrend "
   ]
  },
  {
   "cell_type": "code",
   "execution_count": null,
   "id": "contained-brush",
   "metadata": {},
   "outputs": [],
   "source": [
    "DM = pd.DataFrame()\n",
    "s = s.reset_index(drop = True)\n",
    "for h in range(10):\n",
    "    dm = []\n",
    "    for j in range(len(s)):\n",
    "        first_model1 = s.iloc[j,:]['Регрессоры'].split(', ')\n",
    "        X_ = tab_2014.filter(first_model1)\n",
    "        X = X_.join(table_unit.filter(first_model1))\n",
    "        y = table_unit[s['Регрессант'][0]]\n",
    "        X, y, n, t = result(X, y)\n",
    "        model = sm.OLS(y[:n], X[:n])\n",
    "        results = model.fit(cov_type='HC3')\n",
    "\n",
    "        start = results.fittedvalues.index[-1]\n",
    "        predictions1 = []\n",
    "        for i in range(start, y.index[-1]-h):\n",
    "            predictions = get_predictions(h)\n",
    "            predictions1.append(predictions[0][start+h])\n",
    "            start +=1 \n",
    "            X_ = tab_2014.filter(first_model1)  \n",
    "            X = X_.join(table_unit.filter(first_model1))\n",
    "            y = table_unit[s['Регрессант'][0]]\n",
    "            X, y, n, t = result(X, y)\n",
    "            model = sm.OLS(y[:i], X[:i])\n",
    "            results = model.fit(cov_type='HC3')\n",
    "\n",
    "        first_model1 = s.iloc[j,:]['Регрессоры'].split(', ')\n",
    "        X_star = tab_2014.filter(first_model1)\n",
    "        X_ = X_star.join(table_unit.filter(first_model1))\n",
    "        X = X_.join(goods[s.iloc[j,4][len(s.iloc[j,0].split(', ')):]])\n",
    "\n",
    "        y = table_unit[s['Регрессант'][0]]\n",
    "        X, y, n, t = result(X, y)\n",
    "        model = sm.OLS(y[:n], X[:n])\n",
    "        results = model.fit(cov_type='HC3')\n",
    "        \n",
    "        start = results.fittedvalues.index[-1]\n",
    "        predictions2 = []\n",
    "        for i in range(start, y.index[-1]-h):\n",
    "            predictions = get_predictions(h)\n",
    "            predictions2.append(predictions[0][start+h])\n",
    "            start +=1 \n",
    "            X_star = tab_2014.filter(first_model1)\n",
    "            X_ = X_star.join(table_unit.filter(first_model1))\n",
    "            X = X_.join(goods[s.iloc[j,4][len(s.iloc[j,0].split(', ')):]])\n",
    "            y = table_unit[s['Регрессант'][0]]\n",
    "            X, y, n, t = result(X, y)\n",
    "            model = sm.OLS(y[:i], X[:i])\n",
    "            results = model.fit(cov_type='HC3')\n",
    "      \n",
    "\n",
    "        dm.append(dm_test(y[n:][h:], predictions2, predictions1, h = h+1, crit = 'MSE')[1])\n",
    "    \n",
    "        \n",
    "    df = pd.DataFrame()\n",
    "    for i in range(len(dm)):\n",
    "        if dm[i]<0.2:\n",
    "            df = df.append(s.iloc[i,:])\n",
    "    df['Шаг прогноза'] = h+1\n",
    "    DM = DM.append(df)"
   ]
  },
  {
   "cell_type": "code",
   "execution_count": null,
   "id": "imposed-fossil",
   "metadata": {
    "scrolled": false
   },
   "outputs": [],
   "source": [
    "DM"
   ]
  },
  {
   "cell_type": "code",
   "execution_count": null,
   "id": "alone-audit",
   "metadata": {},
   "outputs": [],
   "source": [
    "df1 = DM[['Регрессоры (тренды)', 'Шаг прогноза']]\n",
    "df2 = df1.groupby(level=0)['Шаг прогноза'].apply(list).to_dict()\n",
    "keys = list(df2.keys())\n",
    "names_ = []\n",
    "for i in s.index:\n",
    "    if i in keys:\n",
    "        names_.append(str(s['Регрессоры (тренды)'][i]))\n",
    "\n",
    "print('Количество уникальных регрессий ', len(pd.DataFrame([names_, df2.values()]).T))\n",
    "\n",
    "## Подсчет количества моделей с шагом прогноза от 1 до 10.\n",
    "#########################################################\n",
    "\n",
    "for i in range(1,11):\n",
    "    print(len(DM[DM['Шаг прогноза'] == i]))"
   ]
  },
  {
   "cell_type": "code",
   "execution_count": null,
   "id": "valued-local",
   "metadata": {},
   "outputs": [],
   "source": [
    "## Список моделей для конкретного шага прогноза \n",
    "###############################################\n",
    "\n",
    "temp = DM[DM['Шаг прогноза'] == 1].sort_values(['Разница R^2'], ascending = False)\n",
    "temp = temp.reset_index(drop = True)\n",
    "temp"
   ]
  }
 ],
 "metadata": {
  "kernelspec": {
   "display_name": "Python 3",
   "language": "python",
   "name": "python3"
  },
  "language_info": {
   "codemirror_mode": {
    "name": "ipython",
    "version": 3
   },
   "file_extension": ".py",
   "mimetype": "text/x-python",
   "name": "python",
   "nbconvert_exporter": "python",
   "pygments_lexer": "ipython3",
   "version": "3.7.9"
  }
 },
 "nbformat": 4,
 "nbformat_minor": 5
}
