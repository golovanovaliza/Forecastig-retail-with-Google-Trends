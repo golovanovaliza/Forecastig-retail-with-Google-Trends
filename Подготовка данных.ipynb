{
 "cells": [
  {
   "cell_type": "code",
   "execution_count": null,
   "id": "christian-diversity",
   "metadata": {},
   "outputs": [],
   "source": [
    "import numpy as np\n",
    "import pandas as pd\n",
    "import itertools\n",
    "import statsmodels.api as sm\n",
    "from statsmodels.tsa.stattools import adfuller\n",
    "import warnings\n",
    "warnings.filterwarnings(\"ignore\")\n",
    "import re \n",
    "from sklearn.decomposition import PCA\n",
    "from sklearn.preprocessing import MinMaxScaler\n",
    "import plotly\n",
    "from sklearn.preprocessing import StandardScaler, scale\n",
    "import matplotlib.pyplot as plt\n",
    "import plotly.graph_objs as go\n",
    "import seaborn as sns\n",
    "from dm_test2 import dm_test"
   ]
  },
  {
   "cell_type": "code",
   "execution_count": null,
   "id": "confused-jimmy",
   "metadata": {},
   "outputs": [],
   "source": [
    "def mean_absolute_percentage_error(y_true, y_pred): \n",
    "    return np.mean(np.abs(y_true - y_pred))"
   ]
  },
  {
   "cell_type": "markdown",
   "id": "complicated-steal",
   "metadata": {},
   "source": [
    "## Подготовка данных"
   ]
  },
  {
   "cell_type": "code",
   "execution_count": null,
   "id": "fluid-court",
   "metadata": {},
   "outputs": [],
   "source": [
    "tab_2014_1 = pd.read_excel('Macro data.xlsx', sheet_name = 'Сырые данные')\n",
    "tab_2014_ = pd.read_excel('Macro data.xlsx', sheet_name = 'Данные')\n",
    "\n",
    "print(tab_2014_.head(3))\n",
    "print(tab_2014_.tail(3))\n",
    "scaler = MinMaxScaler(feature_range=(0, 100))\n",
    "scaler = scaler.fit(tab_2014_.iloc[:,1:])\n",
    "try1 = scaler.transform(tab_2014_.iloc[:,1:])\n",
    "tab_2014__ = pd.DataFrame(try1, columns=tab_2014_.iloc[:,1:].columns)\n",
    "\n",
    "var_name = 'nonfood_goods' ## определяем целевую переменную\n",
    "\n",
    "tab_2014 = tab_2014__.filter(['ipd', var_name, 'oil', 'real_rate', 'rvi'], axis = 1)\n",
    "for i in tab_2014.columns: \n",
    "    tab_2014[i+'-1'] = tab_2014[i].shift().reset_index(drop = True)\n",
    "    tab_2014[i+'-2'] = tab_2014[i+'-1'].shift().reset_index(drop = True)\n",
    "    tab_2014[i+'-3'] = tab_2014[i+'-2'].shift().reset_index(drop = True) \n",
    "   # tab_2014[i+'-4'] = tab_2014[i+'-3'].shift().reset_index(drop = True)\n",
    "   # tab_2014[i+'-5'] = tab_2014[i+'-4'].shift().reset_index(drop = True) \n",
    "   # tab_2014[i+'-6'] = tab_2014[i+'-5'].shift().reset_index(drop = True) \n",
    "len(tab_2014)"
   ]
  },
  {
   "cell_type": "code",
   "execution_count": null,
   "id": "fiscal-tracker",
   "metadata": {},
   "outputs": [],
   "source": [
    "tab_2014_12 = tab_2014_1.filter(['Продовольственные', 'Непродовольственные', 'Российский индекс волатильности',\n",
    "                                 'Цена на нефть (BRENT)', 'Реальный валютный курс', 'Индекс потребительского доверия'])[:-4]\n",
    "plotly.offline.init_notebook_mode()\n",
    "\n",
    "for i in range(len(tab_2014_12.columns)):\n",
    "    data=(plotly.graph_objs.Scatter(x=tab_2014_1.Дата, \n",
    "                                      y=pd.DataFrame(tab_2014_12).iloc[:,i], \n",
    "                                      mode='lines'))\n",
    "\n",
    "    layout = go.Layout(legend=dict(orientation=\"h\"),font=dict(size=15,),autosize=False, width=1000,height=700,\n",
    "        paper_bgcolor='rgba(0,0,0,0)', plot_bgcolor='rgba(0,0,0,0)', xaxis = dict(showticklabels = True),\n",
    "        yaxis = dict(showgrid = True, gridcolor = '#e3e3e3', gridwidth = 1, zerolinecolor = '#969696', zerolinewidth = 2,\n",
    "        linecolor = '#636363', linewidth = 1, showticklabels = True))\n",
    "\n",
    "    fig = go.Figure(data=data, layout = layout)\n",
    "\n",
    "    plotly.offline.iplot(fig) "
   ]
  },
  {
   "cell_type": "code",
   "execution_count": null,
   "id": "alternate-bibliography",
   "metadata": {},
   "outputs": [],
   "source": [
    "prod = pd.read_excel('prod.xlsx')\n",
    "\n",
    "prod.index = prod['Date']\n",
    "prod = prod.drop(['Date'], axis = 1)\n",
    "print(prod.tail(3))\n",
    "\n",
    "prod_detrend = np.log(prod).diff(12)\n",
    "X1 = prod_detrend[prod_detrend.index>='2015-01-01']\n",
    "\n",
    "scaler = MinMaxScaler(feature_range\n",
    "                      =(0, 100))\n",
    "scaler = scaler.fit(X1)\n",
    "try1 = scaler.transform(X1)\n",
    "prod_detrend = pd.DataFrame(try1, columns=prod.columns)\n",
    "pd.DataFrame(prod).describe().round(2)"
   ]
  },
  {
   "cell_type": "code",
   "execution_count": null,
   "id": "vanilla-greek",
   "metadata": {},
   "outputs": [],
   "source": [
    "plotly.offline.init_notebook_mode()\n",
    "data = []\n",
    "for i in range(len(prod.columns)):\n",
    "    data.append(plotly.graph_objs.Scatter(x=prod.index[132:], \n",
    "                                      y=prod.iloc[:,i][132:], \n",
    "                                      mode='lines', name = prod.columns[i]))\n",
    "    \n",
    "layout = go.Layout(font=dict(size=18,),autosize=False, width=1000,height=700,\n",
    "    paper_bgcolor='rgba(0,0,0,0)', plot_bgcolor='rgba(0,0,0,0)', xaxis = dict(showticklabels = True),\n",
    "    yaxis = dict(showgrid = True, gridcolor = '#e3e3e3', gridwidth = 1, zerolinecolor = '#969696', zerolinewidth = 2,\n",
    "    linecolor = '#636363', linewidth = 1, showticklabels = True))\n",
    "\n",
    "fig = go.Figure(data=data, layout = layout)\n",
    "\n",
    "plotly.offline.iplot(fig)  "
   ]
  },
  {
   "cell_type": "code",
   "execution_count": null,
   "id": "protective-marble",
   "metadata": {},
   "outputs": [],
   "source": [
    "neprod = pd.read_excel('neprod.xlsx')\n",
    "neprod.index = neprod['Date']\n",
    "neprod = neprod.drop(['Date'], axis = 1)\n",
    "neprod.head(3)\n",
    "\n",
    "neprod_detrend = np.log(neprod).diff(12)\n",
    "X1 = neprod_detrend[neprod_detrend.index>='2015-01-01']\n",
    "\n",
    "scaler = MinMaxScaler(feature_range=(0, 100))\n",
    "scaler = scaler.fit(X1)\n",
    "try1 = scaler.transform(X1)\n",
    "neprod_detrend = pd.DataFrame(try1, columns=neprod.columns)\n",
    "pd.DataFrame(neprod_detrend).describe().round(2)"
   ]
  },
  {
   "cell_type": "code",
   "execution_count": null,
   "id": "likely-jackson",
   "metadata": {},
   "outputs": [],
   "source": [
    "plotly.offline.init_notebook_mode()\n",
    "data = []\n",
    "for i in range(len(neprod.columns)):\n",
    "    data.append(plotly.graph_objs.Scatter(x=neprod.index[132:], \n",
    "                                      y=pd.DataFrame(neprod).iloc[:,i][132:], \n",
    "                                      mode='lines', name = neprod.columns[i]))\n",
    "\n",
    "layout = go.Layout(font=dict(size=18,),autosize=False, width=1000,height=700,\n",
    "    paper_bgcolor='rgba(0,0,0,0)', plot_bgcolor='rgba(0,0,0,0)', xaxis = dict(showticklabels = True),\n",
    "    yaxis = dict(showgrid = True, gridcolor = '#e3e3e3', gridwidth = 1, zerolinecolor = '#969696', zerolinewidth = 2,\n",
    "    linecolor = '#636363', linewidth = 1, showticklabels = True))\n",
    "\n",
    "fig = go.Figure(data=data, layout = layout)\n",
    "\n",
    "plotly.offline.iplot(fig)  "
   ]
  },
  {
   "cell_type": "markdown",
   "id": "useful-heaven",
   "metadata": {},
   "source": [
    "## Тесты Дики-Фуллера"
   ]
  },
  {
   "cell_type": "code",
   "execution_count": null,
   "id": "canadian-conclusion",
   "metadata": {},
   "outputs": [],
   "source": [
    "prod_adj = pd.read_excel('prod_adj.xlsx') ## Для теста Дики-Фуллера\n",
    "prod_adj.index = prod_adj['Dates']\n",
    "prod_adj = prod_adj.drop(['Dates'], axis = 1)\n",
    "series = prod_adj[prod_adj.index>='2014-01-01']\n",
    "\n",
    "### H0 : ряд нестационарный. Н0 отвергается при p-value < 0.05.\n",
    "\n",
    "results = []\n",
    "for i in series.columns:\n",
    "    X = series[i].values\n",
    "    result = adfuller(X)\n",
    "    results.append(round(result[1],2))\n",
    "test_p = pd.DataFrame([series.columns, results])\n",
    "test_p"
   ]
  },
  {
   "cell_type": "code",
   "execution_count": null,
   "id": "straight-charter",
   "metadata": {},
   "outputs": [],
   "source": [
    "neprod_adj = pd.read_excel('neprod_adj.xlsx') ## Для теста Дики-Фуллера\n",
    "neprod_adj.index = neprod_adj['Dates']\n",
    "neprod_adj = neprod_adj.drop(['Dates'], axis = 1)\n",
    "series =neprod_adj[neprod_adj.index>='2014-01-01']\n",
    "\n",
    "### H0 : ряд нестационарный. Н0 отвергается при p-value < 0.05. \n",
    "results = []\n",
    "for i in series.columns:\n",
    "    X = series[i].values\n",
    "    result = adfuller(X)\n",
    "    results.append(round(result[1],2))\n",
    "test_np = pd.DataFrame([series.columns, results])\n",
    "test_np"
   ]
  }
 ],
 "metadata": {
  "kernelspec": {
   "display_name": "Python 3",
   "language": "python",
   "name": "python3"
  },
  "language_info": {
   "codemirror_mode": {
    "name": "ipython",
    "version": 3
   },
   "file_extension": ".py",
   "mimetype": "text/x-python",
   "name": "python",
   "nbconvert_exporter": "python",
   "pygments_lexer": "ipython3",
   "version": "3.7.9"
  }
 },
 "nbformat": 4,
 "nbformat_minor": 5
}
